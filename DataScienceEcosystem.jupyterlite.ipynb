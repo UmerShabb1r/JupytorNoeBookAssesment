{
 "cells": [
  {
   "cell_type": "markdown",
   "id": "88c7e376-877b-46c7-9664-1f0d6810c299",
   "metadata": {},
   "source": [
    "# Data Science Tools and Ecosystem"
   ]
  },
  {
   "cell_type": "markdown",
   "id": "3cd65545-af08-454c-a7e6-285caafc1a4d",
   "metadata": {},
   "source": [
    "In this notebook, Data Science Tools and Ecosystem are summarized."
   ]
  },
  {
   "cell_type": "markdown",
   "id": "36cff81e-b415-4894-8a9f-11d740f0c64a",
   "metadata": {},
   "source": [
    "**Objectives:**\n",
    "- Languages used in Data scince\n",
    "- Liabraries used by Data scientists\n",
    "- Data Scince tools"
   ]
  },
  {
   "cell_type": "markdown",
   "id": "1407dcf5-c1c8-42cf-ba10-aa70fb889b4f",
   "metadata": {},
   "source": [
    "Some of the popular languages that Data Scientists use are:\n",
    "1. Python\n",
    "2. R\n",
    "3. SQL"
   ]
  },
  {
   "cell_type": "markdown",
   "id": "ca9771ec-b266-40c2-af64-1335691b9f38",
   "metadata": {},
   "source": [
    "Some of the commonly used libraries used by Data Scientists include:\n",
    "1. Panda\n",
    "2. Numpy\n",
    "3. Seaborn"
   ]
  },
  {
   "cell_type": "markdown",
   "id": "172fbf26-5367-4a64-849d-52a46040a6ef",
   "metadata": {},
   "source": [
    "| Data Science Tools |\n",
    "|--------------------|\n",
    "|Jupytor Notebook |\n",
    "|Apache Spark |\n",
    "|Python |"
   ]
  },
  {
   "cell_type": "markdown",
   "id": "a3d49f90-5980-488a-87cc-7550ffd0fd48",
   "metadata": {},
   "source": [
    "### Below are a few examples of evaluating arithmetic expressions in Python"
   ]
  },
  {
   "cell_type": "code",
   "execution_count": 3,
   "id": "8d1cc944-43b4-42b4-8986-5ca673ed3419",
   "metadata": {
    "tags": []
   },
   "outputs": [
    {
     "data": {
      "text/plain": [
       "17"
      ]
     },
     "execution_count": 3,
     "metadata": {},
     "output_type": "execute_result"
    }
   ],
   "source": [
    "#This a simple arithmetic expression to mutiply then add integers\n",
    "(3*4)+5"
   ]
  },
  {
   "cell_type": "code",
   "execution_count": 5,
   "id": "f0029c18-73cc-4efd-a5bf-883079f4d7b9",
   "metadata": {
    "tags": []
   },
   "outputs": [
    {
     "data": {
      "text/plain": [
       "3.3333333333333335"
      ]
     },
     "execution_count": 5,
     "metadata": {},
     "output_type": "execute_result"
    }
   ],
   "source": [
    " #This will convert 200 minutes to hours by diving by 60\n",
    "(200/60)"
   ]
  },
  {
   "cell_type": "markdown",
   "id": "04e14c8d-0964-42f5-9b9a-d47bd6a3b8e8",
   "metadata": {},
   "source": [
    "## Author\n",
    "Umer Shabbir"
   ]
  }
 ],
 "metadata": {
  "kernelspec": {
   "display_name": "Python",
   "language": "python",
   "name": "conda-env-python-py"
  },
  "language_info": {
   "codemirror_mode": {
    "name": "ipython",
    "version": 3
   },
   "file_extension": ".py",
   "mimetype": "text/x-python",
   "name": "python",
   "nbconvert_exporter": "python",
   "pygments_lexer": "ipython3",
   "version": "3.7.12"
  }
 },
 "nbformat": 4,
 "nbformat_minor": 5
}
